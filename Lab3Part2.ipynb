{
  "nbformat": 4,
  "nbformat_minor": 0,
  "metadata": {
    "colab": {
      "provenance": []
    },
    "kernelspec": {
      "name": "python3",
      "display_name": "Python 3"
    },
    "language_info": {
      "name": "python"
    }
  },
  "cells": [
    {
      "cell_type": "code",
      "execution_count": 9,
      "metadata": {
        "id": "Gr9jSHWt0t0U",
        "colab": {
          "base_uri": "https://localhost:8080/"
        },
        "outputId": "abe77abe-c661-4103-cef0-047ef93f8175"
      },
      "outputs": [
        {
          "output_type": "stream",
          "name": "stdout",
          "text": [
            "4000000.0\n",
            "4000000\n",
            "4000000.0\n",
            "2020000.0\n"
          ]
        }
      ],
      "source": [
        "import numpy as np\n",
        "import sys\n",
        "import math\n",
        "from timeit import default_timer as timer\n",
        "from datetime import timedelta\n",
        "import random\n",
        "import time\n",
        "\n",
        "\n",
        "\n",
        "def recursiveMCM(arraySizes, start, stop):\n",
        "  \"\"\"Recursively create a function to calculate the optimum value of matrix multiplication.\n",
        "  \n",
        "  \"\"\"\n",
        "  if (stop <= start):\n",
        "    return 0\n",
        "\n",
        "  else:\n",
        "    cost = float('Inf')\n",
        "\n",
        "    #loop over all possible values of k to find the minimum cost\n",
        "    for k in range(start, stop):\n",
        "      cost = min(cost, recursiveMCM(arraySizes, start, k) + recursiveMCM(arraySizes, k + 1, stop) + arraySizes[start-1]*arraySizes[k]*arraySizes[stop])\n",
        "\n",
        "  return cost\n",
        "\n",
        "input = [1500, 2000, 3000, 400, 1]\n",
        "\n",
        "#print(recursiveMCM(input, 1, len(input)-1))\n",
        "\n",
        "def memoizedMCM(arraySizes, start, stop):\n",
        "\n",
        "  n = len(arraySizes)\n",
        "  rvec = np.zeros((n-1,n-1))\n",
        "\n",
        "  for i in range(rvec.shape[0]):\n",
        "    for j in range(rvec.shape[1]):\n",
        "        rvec[i, j] = float('Inf')\n",
        "\n",
        "  cost = memoizedRecursiveMCM(arraySizes, start, stop, rvec)\n",
        "  return cost\n",
        "\n",
        "def memoizedRecursiveMCM(arraySizes, start, stop, rvec):\n",
        "\n",
        "  max = float('Inf')\n",
        "\n",
        "  if rvec[start-1, stop-1] != max:              #if the memo exists, just return it\n",
        "      return rvec[start-1, stop-1]\n",
        "\n",
        "  if (stop <= start):\n",
        "    cost = 0;\n",
        "\n",
        "  else:\n",
        "    cost = float('Inf')\n",
        "\n",
        "    #loop over all possible values of k to find the minimum cost\n",
        "    for k in range(start, stop):\n",
        "      cost = min(cost, memoizedRecursiveMCM(arraySizes, start, k, rvec) + memoizedRecursiveMCM(arraySizes, k + 1, stop, rvec) + arraySizes[start-1]*arraySizes[k]*arraySizes[stop])\n",
        "    rvec[start-1, stop-1] = cost\n",
        "  return cost  \n",
        "\n",
        "input = [1500, 2000, 3000, 400, 1]\n",
        "\n",
        "#different cases to test correctness of function\n",
        "leftToRight = [1, 1000, 1000, 1000, 1000, 1000]\n",
        "print(memoizedMCM(leftToRight, 1, len(leftToRight)-1))\n",
        "\n",
        "rightToLeft = [1000, 1000, 1000, 1000, 1000, 1]\n",
        "print(memoizedMCM(rightToLeft, 1, len(rightToLeft)-1))\n",
        "\n",
        "insideOut = [1000, 1000, 1, 1000, 1000, 1000]\n",
        "print(memoizedMCM(insideOut, 1, len(insideOut)-1))\n",
        "\n",
        "insideOutLeftToRight = [10, 1000, 1, 1000, 1000, 1000]\n",
        "print(memoizedMCM(insideOutLeftToRight, 1, len(insideOutLeftToRight)-1))\n",
        "  "
      ]
    },
    {
      "cell_type": "code",
      "source": [
        "#create a dictionary\n",
        "dict_time = {}\n",
        "\n",
        "\n",
        "size =  10  #initial size of matrix chain\n",
        "for i in range(10): #iterates for 10 examples\n",
        "\n",
        "  input = []\n",
        "  #creates a random array with given size and fills with random integers\n",
        "  for i in range(size):\n",
        "    input.append(random.randint(1000, 2000))\n",
        "\n",
        "  #finds and stores the start and end time for recursive and memoized MCM\n",
        "  start_time1 = time.time()\n",
        "  recursiveMCM(input, 1, size -1)\n",
        "  end_time1 = time.time()\n",
        "  \n",
        "  start_time2 = time.time()\n",
        "  memoizedMCM(input, 1, size -1)\n",
        "  end_time2 = time.time()\n",
        "\n",
        "  #adds the time to the dictionary and increments size by 1\n",
        "  dict_time[size] = (end_time1 - start_time1, end_time2 - start_time2)\n",
        "  size += 1\n",
        "  \n",
        "\n",
        "print(dict_time)"
      ],
      "metadata": {
        "colab": {
          "base_uri": "https://localhost:8080/"
        },
        "id": "LsO-pq5m3sjh",
        "outputId": "6a6f565e-f8c3-4c2b-8ae6-715b654a6be5"
      },
      "execution_count": 11,
      "outputs": [
        {
          "output_type": "stream",
          "name": "stdout",
          "text": [
            "{10: (0.008770465850830078, 0.0006732940673828125), 11: (0.015755653381347656, 0.0005898475646972656), 12: (0.043296098709106445, 0.0007314682006835938), 13: (0.1306140422821045, 0.0009217262268066406), 14: (0.4374196529388428, 0.0011932849884033203), 15: (1.2096731662750244, 0.0014126300811767578), 16: (5.21614146232605, 0.0017857551574707031), 17: (12.426078081130981, 0.002477884292602539), 18: (37.64725732803345, 0.0025119781494140625), 19: (110.14318513870239, 0.0029783248901367188)}\n"
          ]
        }
      ]
    },
    {
      "cell_type": "code",
      "source": [
        "print(dict_time)"
      ],
      "metadata": {
        "id": "sqLXqokNXINp"
      },
      "execution_count": null,
      "outputs": []
    }
  ]
}